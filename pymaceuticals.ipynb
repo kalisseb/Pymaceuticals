{
  "cells": [
    {
      "cell_type": "markdown",
      "metadata": {
        "id": "q7keLj894lIp"
      },
      "source": [
        "# Pymaceuticals Inc.\n",
        "---\n",
        "\n",
        "### Analysis\n",
        "- Mice treated with Capomulin and Ramicane had smaller tumors compared to other treatments\n",
        "- Of the drugs included in the quartile calculations only Infubinol had an outlier. \n",
        "- As the mice grew, their tumors grew at a corresponding rate (.84)"
      ]
    },
    {
      "cell_type": "code",
      "execution_count": 3,
      "metadata": {
        "colab": {
          "base_uri": "https://localhost:8080/",
          "height": 206
        },
        "id": "q4GROLgq4lIr",
        "outputId": "fc9c154a-04dd-4430-cd1c-46cf585773f3"
      },
      "outputs": [
        {
          "data": {
            "text/html": [
              "<div>\n",
              "<style scoped>\n",
              "    .dataframe tbody tr th:only-of-type {\n",
              "        vertical-align: middle;\n",
              "    }\n",
              "\n",
              "    .dataframe tbody tr th {\n",
              "        vertical-align: top;\n",
              "    }\n",
              "\n",
              "    .dataframe thead th {\n",
              "        text-align: right;\n",
              "    }\n",
              "</style>\n",
              "<table border=\"1\" class=\"dataframe\">\n",
              "  <thead>\n",
              "    <tr style=\"text-align: right;\">\n",
              "      <th></th>\n",
              "      <th>Mouse ID</th>\n",
              "      <th>Drug Regimen</th>\n",
              "      <th>Sex</th>\n",
              "      <th>Age_months</th>\n",
              "      <th>Weight (g)</th>\n",
              "      <th>Timepoint</th>\n",
              "      <th>Tumor Volume (mm3)</th>\n",
              "      <th>Metastatic Sites</th>\n",
              "    </tr>\n",
              "  </thead>\n",
              "  <tbody>\n",
              "    <tr>\n",
              "      <th>0</th>\n",
              "      <td>k403</td>\n",
              "      <td>Ramicane</td>\n",
              "      <td>Male</td>\n",
              "      <td>21</td>\n",
              "      <td>16</td>\n",
              "      <td>0</td>\n",
              "      <td>45.000000</td>\n",
              "      <td>0</td>\n",
              "    </tr>\n",
              "    <tr>\n",
              "      <th>1</th>\n",
              "      <td>k403</td>\n",
              "      <td>Ramicane</td>\n",
              "      <td>Male</td>\n",
              "      <td>21</td>\n",
              "      <td>16</td>\n",
              "      <td>5</td>\n",
              "      <td>38.825898</td>\n",
              "      <td>0</td>\n",
              "    </tr>\n",
              "    <tr>\n",
              "      <th>2</th>\n",
              "      <td>k403</td>\n",
              "      <td>Ramicane</td>\n",
              "      <td>Male</td>\n",
              "      <td>21</td>\n",
              "      <td>16</td>\n",
              "      <td>10</td>\n",
              "      <td>35.014271</td>\n",
              "      <td>1</td>\n",
              "    </tr>\n",
              "    <tr>\n",
              "      <th>3</th>\n",
              "      <td>k403</td>\n",
              "      <td>Ramicane</td>\n",
              "      <td>Male</td>\n",
              "      <td>21</td>\n",
              "      <td>16</td>\n",
              "      <td>15</td>\n",
              "      <td>34.223992</td>\n",
              "      <td>1</td>\n",
              "    </tr>\n",
              "    <tr>\n",
              "      <th>4</th>\n",
              "      <td>k403</td>\n",
              "      <td>Ramicane</td>\n",
              "      <td>Male</td>\n",
              "      <td>21</td>\n",
              "      <td>16</td>\n",
              "      <td>20</td>\n",
              "      <td>32.997729</td>\n",
              "      <td>1</td>\n",
              "    </tr>\n",
              "  </tbody>\n",
              "</table>\n",
              "</div>"
            ],
            "text/plain": [
              "  Mouse ID Drug Regimen   Sex  Age_months  Weight (g)  Timepoint  \\\n",
              "0     k403     Ramicane  Male          21          16          0   \n",
              "1     k403     Ramicane  Male          21          16          5   \n",
              "2     k403     Ramicane  Male          21          16         10   \n",
              "3     k403     Ramicane  Male          21          16         15   \n",
              "4     k403     Ramicane  Male          21          16         20   \n",
              "\n",
              "   Tumor Volume (mm3)  Metastatic Sites  \n",
              "0           45.000000                 0  \n",
              "1           38.825898                 0  \n",
              "2           35.014271                 1  \n",
              "3           34.223992                 1  \n",
              "4           32.997729                 1  "
            ]
          },
          "execution_count": 3,
          "metadata": {},
          "output_type": "execute_result"
        }
      ],
      "source": [
        "# Dependencies and Setup\n",
        "import matplotlib.pyplot as plt\n",
        "import pandas as pd\n",
        "import scipy.stats as st\n",
        "\n",
        "# Study data files\n",
        "mouse_metadata_path = \"./data/Mouse_metadata.csv\"\n",
        "study_results_path = \"./data/Study_results.csv\"\n",
        "\n",
        "# Read the mouse data and the study results\n",
        "mouse_metadata = pd.read_csv(mouse_metadata_path)\n",
        "study_results = pd.read_csv(study_results_path)\n",
        "\n",
        "# Combine the data into a single DataFrame\n",
        "overall_df = pd.merge(mouse_metadata, study_results, on=\"Mouse ID\")\n",
        "\n",
        "# Display the data table for preview\n",
        "overall_df.head()\n"
      ]
    },
    {
      "cell_type": "code",
      "execution_count": 4,
      "metadata": {
        "colab": {
          "base_uri": "https://localhost:8080/"
        },
        "id": "WstbHtZZ4lIt",
        "outputId": "3390a77f-4362-490c-c7f2-d2456ccdf141"
      },
      "outputs": [
        {
          "data": {
            "text/plain": [
              "249"
            ]
          },
          "execution_count": 4,
          "metadata": {},
          "output_type": "execute_result"
        }
      ],
      "source": [
        "# Checking the number of mice.\n",
        "overall_df[\"Mouse ID\"].nunique()\n"
      ]
    },
    {
      "cell_type": "code",
      "execution_count": 5,
      "metadata": {
        "colab": {
          "base_uri": "https://localhost:8080/"
        },
        "id": "ZOG9nXfp4lIt",
        "outputId": "025b9c6d-8453-4cbd-a6cd-a14bc5508fe8"
      },
      "outputs": [
        {
          "data": {
            "text/plain": [
              "array(['g989'], dtype=object)"
            ]
          },
          "execution_count": 5,
          "metadata": {},
          "output_type": "execute_result"
        }
      ],
      "source": [
        "# Our data should be uniquely identified by Mouse ID and Timepoint\n",
        "# Get the duplicate mice by ID number that shows up for Mouse ID and Timepoint.\n",
        "duplicates_df = overall_df[overall_df.duplicated(subset=[\"Mouse ID\", \"Timepoint\"])]\n",
        "duplicates_df['Mouse ID'].unique()\n"
      ]
    },
    {
      "cell_type": "code",
      "execution_count": 6,
      "metadata": {
        "colab": {
          "base_uri": "https://localhost:8080/",
          "height": 206
        },
        "id": "tDz9V27I4lIu",
        "outputId": "44a98210-09eb-44b2-a807-69bd217a0ee5"
      },
      "outputs": [
        {
          "data": {
            "text/html": [
              "<div>\n",
              "<style scoped>\n",
              "    .dataframe tbody tr th:only-of-type {\n",
              "        vertical-align: middle;\n",
              "    }\n",
              "\n",
              "    .dataframe tbody tr th {\n",
              "        vertical-align: top;\n",
              "    }\n",
              "\n",
              "    .dataframe thead th {\n",
              "        text-align: right;\n",
              "    }\n",
              "</style>\n",
              "<table border=\"1\" class=\"dataframe\">\n",
              "  <thead>\n",
              "    <tr style=\"text-align: right;\">\n",
              "      <th></th>\n",
              "      <th>Mouse ID</th>\n",
              "      <th>Drug Regimen</th>\n",
              "      <th>Sex</th>\n",
              "      <th>Age_months</th>\n",
              "      <th>Weight (g)</th>\n",
              "      <th>Timepoint</th>\n",
              "      <th>Tumor Volume (mm3)</th>\n",
              "      <th>Metastatic Sites</th>\n",
              "    </tr>\n",
              "  </thead>\n",
              "  <tbody>\n",
              "    <tr>\n",
              "      <th>0</th>\n",
              "      <td>k403</td>\n",
              "      <td>Ramicane</td>\n",
              "      <td>Male</td>\n",
              "      <td>21</td>\n",
              "      <td>16</td>\n",
              "      <td>0</td>\n",
              "      <td>45.000000</td>\n",
              "      <td>0</td>\n",
              "    </tr>\n",
              "    <tr>\n",
              "      <th>1</th>\n",
              "      <td>k403</td>\n",
              "      <td>Ramicane</td>\n",
              "      <td>Male</td>\n",
              "      <td>21</td>\n",
              "      <td>16</td>\n",
              "      <td>5</td>\n",
              "      <td>38.825898</td>\n",
              "      <td>0</td>\n",
              "    </tr>\n",
              "    <tr>\n",
              "      <th>2</th>\n",
              "      <td>k403</td>\n",
              "      <td>Ramicane</td>\n",
              "      <td>Male</td>\n",
              "      <td>21</td>\n",
              "      <td>16</td>\n",
              "      <td>10</td>\n",
              "      <td>35.014271</td>\n",
              "      <td>1</td>\n",
              "    </tr>\n",
              "    <tr>\n",
              "      <th>3</th>\n",
              "      <td>k403</td>\n",
              "      <td>Ramicane</td>\n",
              "      <td>Male</td>\n",
              "      <td>21</td>\n",
              "      <td>16</td>\n",
              "      <td>15</td>\n",
              "      <td>34.223992</td>\n",
              "      <td>1</td>\n",
              "    </tr>\n",
              "    <tr>\n",
              "      <th>4</th>\n",
              "      <td>k403</td>\n",
              "      <td>Ramicane</td>\n",
              "      <td>Male</td>\n",
              "      <td>21</td>\n",
              "      <td>16</td>\n",
              "      <td>20</td>\n",
              "      <td>32.997729</td>\n",
              "      <td>1</td>\n",
              "    </tr>\n",
              "  </tbody>\n",
              "</table>\n",
              "</div>"
            ],
            "text/plain": [
              "  Mouse ID Drug Regimen   Sex  Age_months  Weight (g)  Timepoint  \\\n",
              "0     k403     Ramicane  Male          21          16          0   \n",
              "1     k403     Ramicane  Male          21          16          5   \n",
              "2     k403     Ramicane  Male          21          16         10   \n",
              "3     k403     Ramicane  Male          21          16         15   \n",
              "4     k403     Ramicane  Male          21          16         20   \n",
              "\n",
              "   Tumor Volume (mm3)  Metastatic Sites  \n",
              "0           45.000000                 0  \n",
              "1           38.825898                 0  \n",
              "2           35.014271                 1  \n",
              "3           34.223992                 1  \n",
              "4           32.997729                 1  "
            ]
          },
          "execution_count": 6,
          "metadata": {},
          "output_type": "execute_result"
        }
      ],
      "source": [
        "# Create a clean DataFrame by dropping the duplicate mouse by its ID.\n",
        "cleaned_df = overall_df.loc[overall_df['Mouse ID'] != \"g989\"]\n",
        "cleaned_df.head()"
      ]
    },
    {
      "cell_type": "code",
      "execution_count": 7,
      "metadata": {
        "colab": {
          "base_uri": "https://localhost:8080/"
        },
        "id": "gZ_nCz4m4lIu",
        "outputId": "08c417bf-7fff-4b70-967e-c076ffb21e57"
      },
      "outputs": [
        {
          "data": {
            "text/plain": [
              "248"
            ]
          },
          "execution_count": 7,
          "metadata": {},
          "output_type": "execute_result"
        }
      ],
      "source": [
        "# Checking the number of mice in the clean DataFrame.\n",
        "cleaned_df[\"Mouse ID\"].nunique()"
      ]
    },
    {
      "cell_type": "markdown",
      "metadata": {
        "id": "Ugp4uO3q4lIu"
      },
      "source": [
        "## Summary Statistics"
      ]
    },
    {
      "cell_type": "code",
      "execution_count": 8,
      "metadata": {
        "colab": {
          "base_uri": "https://localhost:8080/",
          "height": 238
        },
        "id": "r8C9B8bw4lIu",
        "outputId": "55b4008c-e856-4878-cba6-dbb8216b5eb4"
      },
      "outputs": [
        {
          "data": {
            "text/html": [
              "<div>\n",
              "<style scoped>\n",
              "    .dataframe tbody tr th:only-of-type {\n",
              "        vertical-align: middle;\n",
              "    }\n",
              "\n",
              "    .dataframe tbody tr th {\n",
              "        vertical-align: top;\n",
              "    }\n",
              "\n",
              "    .dataframe thead th {\n",
              "        text-align: right;\n",
              "    }\n",
              "</style>\n",
              "<table border=\"1\" class=\"dataframe\">\n",
              "  <thead>\n",
              "    <tr style=\"text-align: right;\">\n",
              "      <th></th>\n",
              "      <th>Mean Tumor Volume</th>\n",
              "      <th>Median Tumor Volume</th>\n",
              "      <th>Tumor Volume Variance</th>\n",
              "      <th>Tumor Volume Std. Dev.</th>\n",
              "      <th>Tumor Volume Std. Err.</th>\n",
              "    </tr>\n",
              "    <tr>\n",
              "      <th>Drug Regimen</th>\n",
              "      <th></th>\n",
              "      <th></th>\n",
              "      <th></th>\n",
              "      <th></th>\n",
              "      <th></th>\n",
              "    </tr>\n",
              "  </thead>\n",
              "  <tbody>\n",
              "    <tr>\n",
              "      <th>Capomulin</th>\n",
              "      <td>40.675741</td>\n",
              "      <td>41.557809</td>\n",
              "      <td>24.947764</td>\n",
              "      <td>4.994774</td>\n",
              "      <td>0.329346</td>\n",
              "    </tr>\n",
              "    <tr>\n",
              "      <th>Ceftamin</th>\n",
              "      <td>52.591172</td>\n",
              "      <td>51.776157</td>\n",
              "      <td>39.290177</td>\n",
              "      <td>6.268188</td>\n",
              "      <td>0.469821</td>\n",
              "    </tr>\n",
              "    <tr>\n",
              "      <th>Infubinol</th>\n",
              "      <td>52.884795</td>\n",
              "      <td>51.820584</td>\n",
              "      <td>43.128684</td>\n",
              "      <td>6.567243</td>\n",
              "      <td>0.492236</td>\n",
              "    </tr>\n",
              "    <tr>\n",
              "      <th>Ketapril</th>\n",
              "      <td>55.235638</td>\n",
              "      <td>53.698743</td>\n",
              "      <td>68.553577</td>\n",
              "      <td>8.279709</td>\n",
              "      <td>0.603860</td>\n",
              "    </tr>\n",
              "    <tr>\n",
              "      <th>Naftisol</th>\n",
              "      <td>54.331565</td>\n",
              "      <td>52.509285</td>\n",
              "      <td>66.173479</td>\n",
              "      <td>8.134708</td>\n",
              "      <td>0.596466</td>\n",
              "    </tr>\n",
              "  </tbody>\n",
              "</table>\n",
              "</div>"
            ],
            "text/plain": [
              "              Mean Tumor Volume  Median Tumor Volume  Tumor Volume Variance  \\\n",
              "Drug Regimen                                                                  \n",
              "Capomulin             40.675741            41.557809              24.947764   \n",
              "Ceftamin              52.591172            51.776157              39.290177   \n",
              "Infubinol             52.884795            51.820584              43.128684   \n",
              "Ketapril              55.235638            53.698743              68.553577   \n",
              "Naftisol              54.331565            52.509285              66.173479   \n",
              "\n",
              "              Tumor Volume Std. Dev.  Tumor Volume Std. Err.  \n",
              "Drug Regimen                                                  \n",
              "Capomulin                   4.994774                0.329346  \n",
              "Ceftamin                    6.268188                0.469821  \n",
              "Infubinol                   6.567243                0.492236  \n",
              "Ketapril                    8.279709                0.603860  \n",
              "Naftisol                    8.134708                0.596466  "
            ]
          },
          "execution_count": 8,
          "metadata": {},
          "output_type": "execute_result"
        }
      ],
      "source": [
        "# Generate a summary statistics table of mean, median, variance, standard deviation, and SEM of the tumor volume for each regimen\n",
        "\n",
        "# Use groupby and summary statistical methods to calculate the following properties of each drug regimen:\n",
        "# mean, median, variance, standard deviation, and SEM of the tumor volume.\n",
        "# Assemble the resulting series into a single summary DataFrame.\n",
        "tumor_mean = cleaned_df.groupby(\"Drug Regimen\")[\"Tumor Volume (mm3)\"].mean()\n",
        "tumor_median = cleaned_df.groupby(\"Drug Regimen\")[\"Tumor Volume (mm3)\"].median()\n",
        "tumor_var = cleaned_df.groupby(\"Drug Regimen\")[\"Tumor Volume (mm3)\"].var()\n",
        "tumor_std = cleaned_df.groupby(\"Drug Regimen\")[\"Tumor Volume (mm3)\"].std()\n",
        "tumor_sem = cleaned_df.groupby(\"Drug Regimen\")[\"Tumor Volume (mm3)\"].sem()\n",
        "\n",
        "summary_df = pd.DataFrame({\n",
        "    \"Mean Tumor Volume\": tumor_mean,\n",
        "    \"Median Tumor Volume\": tumor_median,\n",
        "    \"Tumor Volume Variance\": tumor_var,\n",
        "    \"Tumor Volume Std. Dev.\": tumor_std,\n",
        "    \"Tumor Volume Std. Err.\": tumor_sem\n",
        "})\n",
        "\n",
        "summary_df.head()\n"
      ]
    },
    {
      "cell_type": "code",
      "execution_count": 21,
      "metadata": {
        "colab": {
          "base_uri": "https://localhost:8080/",
          "height": 238
        },
        "id": "SmzXC2qi4lIu",
        "outputId": "5760c1ed-553a-4186-f994-3b7cbd7db414"
      },
      "outputs": [
        {
          "data": {
            "text/html": [
              "<div>\n",
              "<style scoped>\n",
              "    .dataframe tbody tr th:only-of-type {\n",
              "        vertical-align: middle;\n",
              "    }\n",
              "\n",
              "    .dataframe tbody tr th {\n",
              "        vertical-align: top;\n",
              "    }\n",
              "\n",
              "    .dataframe thead th {\n",
              "        text-align: right;\n",
              "    }\n",
              "</style>\n",
              "<table border=\"1\" class=\"dataframe\">\n",
              "  <thead>\n",
              "    <tr style=\"text-align: right;\">\n",
              "      <th></th>\n",
              "      <th>mean</th>\n",
              "      <th>median</th>\n",
              "      <th>var</th>\n",
              "      <th>std</th>\n",
              "      <th>sem</th>\n",
              "    </tr>\n",
              "    <tr>\n",
              "      <th>Drug Regimen</th>\n",
              "      <th></th>\n",
              "      <th></th>\n",
              "      <th></th>\n",
              "      <th></th>\n",
              "      <th></th>\n",
              "    </tr>\n",
              "  </thead>\n",
              "  <tbody>\n",
              "    <tr>\n",
              "      <th>Capomulin</th>\n",
              "      <td>40.675741</td>\n",
              "      <td>41.557809</td>\n",
              "      <td>24.947764</td>\n",
              "      <td>4.994774</td>\n",
              "      <td>0.329346</td>\n",
              "    </tr>\n",
              "    <tr>\n",
              "      <th>Ceftamin</th>\n",
              "      <td>52.591172</td>\n",
              "      <td>51.776157</td>\n",
              "      <td>39.290177</td>\n",
              "      <td>6.268188</td>\n",
              "      <td>0.469821</td>\n",
              "    </tr>\n",
              "    <tr>\n",
              "      <th>Infubinol</th>\n",
              "      <td>52.884795</td>\n",
              "      <td>51.820584</td>\n",
              "      <td>43.128684</td>\n",
              "      <td>6.567243</td>\n",
              "      <td>0.492236</td>\n",
              "    </tr>\n",
              "    <tr>\n",
              "      <th>Ketapril</th>\n",
              "      <td>55.235638</td>\n",
              "      <td>53.698743</td>\n",
              "      <td>68.553577</td>\n",
              "      <td>8.279709</td>\n",
              "      <td>0.603860</td>\n",
              "    </tr>\n",
              "    <tr>\n",
              "      <th>Naftisol</th>\n",
              "      <td>54.331565</td>\n",
              "      <td>52.509285</td>\n",
              "      <td>66.173479</td>\n",
              "      <td>8.134708</td>\n",
              "      <td>0.596466</td>\n",
              "    </tr>\n",
              "    <tr>\n",
              "      <th>Placebo</th>\n",
              "      <td>54.033581</td>\n",
              "      <td>52.288934</td>\n",
              "      <td>61.168083</td>\n",
              "      <td>7.821003</td>\n",
              "      <td>0.581331</td>\n",
              "    </tr>\n",
              "    <tr>\n",
              "      <th>Propriva</th>\n",
              "      <td>52.320930</td>\n",
              "      <td>50.446266</td>\n",
              "      <td>43.852013</td>\n",
              "      <td>6.622085</td>\n",
              "      <td>0.544332</td>\n",
              "    </tr>\n",
              "    <tr>\n",
              "      <th>Ramicane</th>\n",
              "      <td>40.216745</td>\n",
              "      <td>40.673236</td>\n",
              "      <td>23.486704</td>\n",
              "      <td>4.846308</td>\n",
              "      <td>0.320955</td>\n",
              "    </tr>\n",
              "    <tr>\n",
              "      <th>Stelasyn</th>\n",
              "      <td>54.233149</td>\n",
              "      <td>52.431737</td>\n",
              "      <td>59.450562</td>\n",
              "      <td>7.710419</td>\n",
              "      <td>0.573111</td>\n",
              "    </tr>\n",
              "    <tr>\n",
              "      <th>Zoniferol</th>\n",
              "      <td>53.236507</td>\n",
              "      <td>51.818479</td>\n",
              "      <td>48.533355</td>\n",
              "      <td>6.966589</td>\n",
              "      <td>0.516398</td>\n",
              "    </tr>\n",
              "  </tbody>\n",
              "</table>\n",
              "</div>"
            ],
            "text/plain": [
              "                   mean     median        var       std       sem\n",
              "Drug Regimen                                                     \n",
              "Capomulin     40.675741  41.557809  24.947764  4.994774  0.329346\n",
              "Ceftamin      52.591172  51.776157  39.290177  6.268188  0.469821\n",
              "Infubinol     52.884795  51.820584  43.128684  6.567243  0.492236\n",
              "Ketapril      55.235638  53.698743  68.553577  8.279709  0.603860\n",
              "Naftisol      54.331565  52.509285  66.173479  8.134708  0.596466\n",
              "Placebo       54.033581  52.288934  61.168083  7.821003  0.581331\n",
              "Propriva      52.320930  50.446266  43.852013  6.622085  0.544332\n",
              "Ramicane      40.216745  40.673236  23.486704  4.846308  0.320955\n",
              "Stelasyn      54.233149  52.431737  59.450562  7.710419  0.573111\n",
              "Zoniferol     53.236507  51.818479  48.533355  6.966589  0.516398"
            ]
          },
          "execution_count": 21,
          "metadata": {},
          "output_type": "execute_result"
        }
      ],
      "source": [
        "# A more advanced method to generate a summary statistics table of mean, median, variance, standard deviation,\n",
        "# and SEM of the tumor volume for each regimen (only one method is required in the solution)\n",
        "\n",
        "# Using the aggregation method, produce the same summary statistics in a single line\n",
        "summary_df = cleaned_df.groupby(\"Drug Regimen\")[\"Tumor Volume (mm3)\"].agg([\"mean\", \"median\", \"var\", \"std\", \"sem\"])\n",
        "summary_df"
      ]
    },
    {
      "cell_type": "markdown",
      "metadata": {
        "id": "y_S7tlpj4lIv"
      },
      "source": [
        "## Bar and Pie Charts"
      ]
    },
    {
      "cell_type": "code",
      "execution_count": 10,
      "metadata": {
        "colab": {
          "base_uri": "https://localhost:8080/",
          "height": 527
        },
        "id": "7BxcvFp24lIv",
        "outputId": "79bff628-bde5-4587-9ba1-38e854cd1991"
      },
      "outputs": [
        {
          "data": {
            "text/plain": [
              "<Axes: xlabel='Drug Regimen', ylabel='# of Observed Mouse Timepoints'>"
            ]
          },
          "execution_count": 10,
          "metadata": {},
          "output_type": "execute_result"
        },
        {
          "data": {
            "image/png": "[encoded data removed]",
            "text/plain": [
              "<Figure size 640x480 with 1 Axes>"
            ]
          },
          "metadata": {},
          "output_type": "display_data"
        }
      ],
      "source": [
        "# Generate a bar plot showing the total number of rows (Mouse ID/Timepoints) for each drug regimen using Pandas.\n",
        "total_rows = cleaned_df.groupby(\"Drug Regimen\")[\"Mouse ID\"].count().sort_values(ascending=False)\n",
        "total_rows.plot(kind=\"bar\", ylabel=\"# of Observed Mouse Timepoints\")"
      ]
    },
    {
      "cell_type": "code",
      "execution_count": 11,
      "metadata": {
        "colab": {
          "base_uri": "https://localhost:8080/",
          "height": 510
        },
        "id": "Vo3ZykWW4lIv",
        "outputId": "0d9074db-6407-4b98-cf33-189b2c8dc18d"
      },
      "outputs": [
        {
          "data": {
            "image/png": "[encoded data removed]",
            "text/plain": [
              "<Figure size 640x480 with 1 Axes>"
            ]
          },
          "metadata": {},
          "output_type": "display_data"
        }
      ],
      "source": [
        "# Generate a bar plot showing the total number of rows (Mouse ID/Timepoints) for each drug regimen using pyplot.\n",
        "plt.bar(total_rows.index, total_rows.values)\n",
        "plt.xticks(rotation=90)\n",
        "plt.xlabel(\"Drug Regimen\")\n",
        "plt.ylabel(\"# of Observed Mouse Timepoints\")\n",
        "plt.show()"
      ]
    },
    {
      "cell_type": "code",
      "execution_count": 12,
      "metadata": {
        "colab": {
          "base_uri": "https://localhost:8080/",
          "height": 423
        },
        "id": "1arkZ96Z4lIv",
        "outputId": "b46b9b52-d226-492b-dafe-0a14c38f9323"
      },
      "outputs": [
        {
          "data": {
            "text/plain": [
              "<Axes: ylabel='Sex'>"
            ]
          },
          "execution_count": 12,
          "metadata": {},
          "output_type": "execute_result"
        },
        {
          "data": {
            "image/png": "[encoded data removed]",
            "text/plain": [
              "<Figure size 640x480 with 1 Axes>"
            ]
          },
          "metadata": {},
          "output_type": "display_data"
        }
      ],
      "source": [
        "# Generate a pie plot showing the distribution of female versus male mice using Pandas\n",
        "gender_df = cleaned_df.groupby(\"Sex\")[\"Mouse ID\"].count()\n",
        "gender_df.plot(kind=\"pie\", ylabel=\"Sex\", autopct=\"%1.1f%%\")"
      ]
    },
    {
      "cell_type": "code",
      "execution_count": 13,
      "metadata": {
        "colab": {
          "base_uri": "https://localhost:8080/",
          "height": 406
        },
        "id": "YI7Hy0o84lIw",
        "outputId": "247f45d7-aa27-466a-97b3-dac515e5968f"
      },
      "outputs": [
        {
          "data": {
            "image/png": "[encoded data removed]",
            "text/plain": [
              "<Figure size 640x480 with 1 Axes>"
            ]
          },
          "metadata": {},
          "output_type": "display_data"
        }
      ],
      "source": [
        "# Generate a pie plot showing the distribution of female versus male mice using pyplot\n",
        "plt.pie(gender_df.values, labels=gender_df.index, autopct=\"%1.1f%%\")\n",
        "plt.ylabel(\"Sex\")\n",
        "plt.show()"
      ]
    },
    {
      "cell_type": "markdown",
      "metadata": {
        "id": "WtmRYdcx4lIw"
      },
      "source": [
        "## Quartiles, Outliers and Boxplots"
      ]
    },
    {
      "cell_type": "code",
      "execution_count": 14,
      "metadata": {
        "colab": {
          "base_uri": "https://localhost:8080/",
          "height": 206
        },
        "id": "oOfGw-_o4lIw",
        "outputId": "68b300c7-2322-4cdd-d304-32b1eb0bc28e"
      },
      "outputs": [
        {
          "data": {
            "text/html": [
              "<div>\n",
              "<style scoped>\n",
              "    .dataframe tbody tr th:only-of-type {\n",
              "        vertical-align: middle;\n",
              "    }\n",
              "\n",
              "    .dataframe tbody tr th {\n",
              "        vertical-align: top;\n",
              "    }\n",
              "\n",
              "    .dataframe thead th {\n",
              "        text-align: right;\n",
              "    }\n",
              "</style>\n",
              "<table border=\"1\" class=\"dataframe\">\n",
              "  <thead>\n",
              "    <tr style=\"text-align: right;\">\n",
              "      <th></th>\n",
              "      <th>Mouse ID</th>\n",
              "      <th>Timepoint</th>\n",
              "      <th>Drug Regimen</th>\n",
              "      <th>Sex</th>\n",
              "      <th>Age_months</th>\n",
              "      <th>Weight (g)</th>\n",
              "      <th>Tumor Volume (mm3)</th>\n",
              "      <th>Metastatic Sites</th>\n",
              "    </tr>\n",
              "  </thead>\n",
              "  <tbody>\n",
              "    <tr>\n",
              "      <th>0</th>\n",
              "      <td>a203</td>\n",
              "      <td>45</td>\n",
              "      <td>Infubinol</td>\n",
              "      <td>Female</td>\n",
              "      <td>20</td>\n",
              "      <td>23</td>\n",
              "      <td>67.973419</td>\n",
              "      <td>2</td>\n",
              "    </tr>\n",
              "    <tr>\n",
              "      <th>1</th>\n",
              "      <td>a251</td>\n",
              "      <td>45</td>\n",
              "      <td>Infubinol</td>\n",
              "      <td>Female</td>\n",
              "      <td>21</td>\n",
              "      <td>25</td>\n",
              "      <td>65.525743</td>\n",
              "      <td>1</td>\n",
              "    </tr>\n",
              "    <tr>\n",
              "      <th>2</th>\n",
              "      <td>a262</td>\n",
              "      <td>45</td>\n",
              "      <td>Placebo</td>\n",
              "      <td>Female</td>\n",
              "      <td>17</td>\n",
              "      <td>29</td>\n",
              "      <td>70.717621</td>\n",
              "      <td>4</td>\n",
              "    </tr>\n",
              "    <tr>\n",
              "      <th>3</th>\n",
              "      <td>a275</td>\n",
              "      <td>45</td>\n",
              "      <td>Ceftamin</td>\n",
              "      <td>Female</td>\n",
              "      <td>20</td>\n",
              "      <td>28</td>\n",
              "      <td>62.999356</td>\n",
              "      <td>3</td>\n",
              "    </tr>\n",
              "    <tr>\n",
              "      <th>4</th>\n",
              "      <td>a366</td>\n",
              "      <td>30</td>\n",
              "      <td>Stelasyn</td>\n",
              "      <td>Female</td>\n",
              "      <td>16</td>\n",
              "      <td>29</td>\n",
              "      <td>63.440686</td>\n",
              "      <td>1</td>\n",
              "    </tr>\n",
              "  </tbody>\n",
              "</table>\n",
              "</div>"
            ],
            "text/plain": [
              "  Mouse ID  Timepoint Drug Regimen     Sex  Age_months  Weight (g)  \\\n",
              "0     a203         45    Infubinol  Female          20          23   \n",
              "1     a251         45    Infubinol  Female          21          25   \n",
              "2     a262         45      Placebo  Female          17          29   \n",
              "3     a275         45     Ceftamin  Female          20          28   \n",
              "4     a366         30     Stelasyn  Female          16          29   \n",
              "\n",
              "   Tumor Volume (mm3)  Metastatic Sites  \n",
              "0           67.973419                 2  \n",
              "1           65.525743                 1  \n",
              "2           70.717621                 4  \n",
              "3           62.999356                 3  \n",
              "4           63.440686                 1  "
            ]
          },
          "execution_count": 14,
          "metadata": {},
          "output_type": "execute_result"
        }
      ],
      "source": [
        "# Calculate the final tumor volume of each mouse across four of the treatment regimens:\n",
        "# Capomulin, Ramicane, Infubinol, and Ceftamin\n",
        "\n",
        "# Start by getting the last (greatest) timepoint for each mouse\n",
        "max_timepoint = cleaned_df.groupby(\"Mouse ID\")[\"Timepoint\"].max()\n",
        "max_timepoint = max_timepoint.reset_index()\n",
        "\n",
        "# Merge this group df with the original DataFrame to get the tumor volume at the last timepoint\n",
        "merged_df = pd.merge(max_timepoint, cleaned_df, on=[\"Mouse ID\", \"Timepoint\"])\n",
        "merged_df.head()"
      ]
    },
    {
      "cell_type": "code",
      "execution_count": 15,
      "metadata": {
        "colab": {
          "base_uri": "https://localhost:8080/"
        },
        "id": "4L6u2vPa4lIx",
        "outputId": "16427a51-cfc6-421f-f3e6-6066e7b0ea8d"
      },
      "outputs": [
        {
          "name": "stdout",
          "output_type": "stream",
          "text": [
            "Capomulin's potential outliers: Series([], Name: Tumor Volume (mm3), dtype: float64)\n",
            "Ramicane's potential outliers: Series([], Name: Tumor Volume (mm3), dtype: float64)\n",
            "Infubinol's potential outliers: 31    36.321346\n",
            "Name: Tumor Volume (mm3), dtype: float64\n",
            "Ceftamin's potential outliers: Series([], Name: Tumor Volume (mm3), dtype: float64)\n"
          ]
        }
      ],
      "source": [
        "# Put treatments into a list for for loop (and later for plot labels)\n",
        "drug_list = [\"Capomulin\", \"Ramicane\", \"Infubinol\", \"Ceftamin\"]\n",
        "\n",
        "# Create empty list to fill with tumor vol data (for plotting)\n",
        "tumor_vol = []\n",
        "\n",
        "# Calculate the IQR and quantitatively determine if there are any potential outliers.\n",
        "for drug in drug_list:\n",
        "\n",
        "    # Locate the rows which contain mice on each drug and get the tumor volumes\n",
        "    temp_df = merged_df.loc[merged_df[\"Drug Regimen\"] == drug, \"Tumor Volume (mm3)\"]\n",
        "\n",
        "    # add subset\n",
        "    tumor_vol.append(temp_df)\n",
        "\n",
        "    # Determine outliers using upper and lower bounds\n",
        "    quartiles = temp_df.quantile([.25,.5,.75])\n",
        "    lowerq = quartiles[0.25]\n",
        "    upperq = quartiles[0.75]\n",
        "    iqr = upperq-lowerq\n",
        "    lower_bound = lowerq - (1.5*iqr)\n",
        "    upper_bound = upperq + (1.5*iqr)\n",
        "    outliers = temp_df.loc[(temp_df < lower_bound) | (temp_df > upper_bound)]\n",
        "    print(f\"{drug}'s potential outliers: {outliers}\")\n"
      ]
    },
    {
      "cell_type": "code",
      "execution_count": 16,
      "metadata": {
        "colab": {
          "base_uri": "https://localhost:8080/",
          "height": 449
        },
        "id": "YQ1K66oB4lI2",
        "outputId": "345765fb-a440-4ef2-d705-116190650789"
      },
      "outputs": [
        {
          "data": {
            "image/png": "[encoded data removed]",
            "text/plain": [
              "<Figure size 640x480 with 1 Axes>"
            ]
          },
          "metadata": {},
          "output_type": "display_data"
        }
      ],
      "source": [
        "# Generate a box plot that shows the distrubution of the tumor volume for each treatment group.\n",
        "flierprops = dict(marker='o', markerfacecolor='red')\n",
        "img1 = plt.boxplot(tumor_vol, labels=drug_list, flierprops=flierprops)\n",
        "plt.xlabel(\"Drug Regimen\")\n",
        "plt.ylabel(\"Final Tumor Volume (mm3)\")\n",
        "plt.show()"
      ]
    },
    {
      "cell_type": "markdown",
      "metadata": {
        "id": "OnfZwra74lI2"
      },
      "source": [
        "## Line and Scatter Plots"
      ]
    },
    {
      "cell_type": "code",
      "execution_count": 17,
      "metadata": {
        "colab": {
          "base_uri": "https://localhost:8080/"
        },
        "id": "bdgeqJUT4lI3",
        "outputId": "6122ca5c-171c-4d47-ca27-8de42b580dbc"
      },
      "outputs": [
        {
          "data": {
            "text/plain": [
              "array(['s185', 'x401', 'm601', 'f966', 'u364', 'y793', 'r554', 'm957',\n",
              "       't565', 'i738', 'w914', 'g288', 'l897', 'b742', 'b128', 'j246',\n",
              "       'j119', 'w150', 'v923', 'g316', 's710', 'l509', 'r944', 'i557',\n",
              "       'r157'], dtype=object)"
            ]
          },
          "execution_count": 17,
          "metadata": {},
          "output_type": "execute_result"
        }
      ],
      "source": [
        "# Generate a line plot of tumor volume vs. time point for a single mouse treated with Capomulin\n",
        "cap_df = cleaned_df.loc[cleaned_df[\"Drug Regimen\"] == \"Capomulin\"]\n",
        "cap_df['Mouse ID'].unique()"
      ]
    },
    {
      "cell_type": "code",
      "execution_count": 18,
      "metadata": {
        "colab": {
          "base_uri": "https://localhost:8080/",
          "height": 472
        },
        "id": "Z8RzxpeGFEsM",
        "outputId": "d97a7191-3c91-42c1-cc68-55884343a0af"
      },
      "outputs": [
        {
          "data": {
            "image/png": "[encoded data removed]",
            "text/plain": [
              "<Figure size 640x480 with 1 Axes>"
            ]
          },
          "metadata": {},
          "output_type": "display_data"
        }
      ],
      "source": [
        "# Generate a line plot of tumor volume vs. time point for a single mouse treated with Capomulin\n",
        "cap_mouse = cap_df.loc[cap_df[\"Mouse ID\"] == \"s185\"]\n",
        "img2 = plt.plot(cap_mouse[\"Timepoint\"], cap_mouse[\"Tumor Volume (mm3)\"])\n",
        "plt.title(\"Capomulin treatment of mouse s185\")\n",
        "plt.xlabel(\"Timepoint (days)\")\n",
        "plt.ylabel(\"Tumor Volume (mm3)\")\n",
        "plt.show()\n"
      ]
    },
    {
      "cell_type": "code",
      "execution_count": 19,
      "metadata": {
        "colab": {
          "base_uri": "https://localhost:8080/",
          "height": 449
        },
        "id": "3yJdrnVo4lI3",
        "outputId": "807b05e2-cca4-432c-a832-d9ad54782377"
      },
      "outputs": [
        {
          "data": {
            "image/png": "[encoded data removed]",
            "text/plain": [
              "<Figure size 640x480 with 1 Axes>"
            ]
          },
          "metadata": {},
          "output_type": "display_data"
        }
      ],
      "source": [
        "# Generate a scatter plot of mouse weight vs. the average observed tumor volume for the entire Capomulin regimen\n",
        "avg_cap_df = cap_df.groupby(\"Mouse ID\")[[\"Tumor Volume (mm3)\",\"Weight (g)\"]].mean()\n",
        "\n",
        "img3 = plt.scatter(avg_cap_df[\"Weight (g)\"], avg_cap_df[\"Tumor Volume (mm3)\"])\n",
        "plt.xlabel(\"Weight (g)\")\n",
        "plt.ylabel(\"Average Tumor Volume (mm3)\")\n",
        "plt.show()"
      ]
    },
    {
      "cell_type": "markdown",
      "metadata": {
        "id": "1ec2vXqD4lI4"
      },
      "source": [
        "## Correlation and Regression"
      ]
    },
    {
      "cell_type": "code",
      "execution_count": 20,
      "metadata": {
        "colab": {
          "base_uri": "https://localhost:8080/",
          "height": 466
        },
        "id": "drXipJZe4lI4",
        "outputId": "ad56b154-575b-4f7a-8879-3f153b3f3466"
      },
      "outputs": [
        {
          "name": "stdout",
          "output_type": "stream",
          "text": [
            "The correlation between mouse weight and the average tumor volume is 0.84\n"
          ]
        },
        {
          "data": {
            "image/png": "[encoded data removed]",
            "text/plain": [
              "<Figure size 640x480 with 1 Axes>"
            ]
          },
          "metadata": {},
          "output_type": "display_data"
        }
      ],
      "source": [
        "from sys import stderr\n",
        "# Calculate the correlation coefficient and a linear regression model\n",
        "# for mouse weight and average observed tumor volume for the entire Capomulin regimen\n",
        "\n",
        "corr_coef = st.pearsonr(avg_cap_df[\"Weight (g)\"], avg_cap_df[\"Tumor Volume (mm3)\"])\n",
        "print(f\"The correlation between mouse weight and the average tumor volume is {round(corr_coef[0],2)}\")\n",
        "\n",
        "(slope, intercept, rvalue, pvalue, stderr) = st.linregress(avg_cap_df[\"Weight (g)\"], avg_cap_df[\"Tumor Volume (mm3)\"])\n",
        "reg_vals = avg_cap_df[\"Weight (g)\"] * slope + intercept\n",
        "line1 = f\"y = {round(slope,2)}x + {round(intercept,2)}\"\n",
        "\n",
        "img4 = plt.scatter(avg_cap_df[\"Weight (g)\"], avg_cap_df[\"Tumor Volume (mm3)\"])\n",
        "plt.xlabel(\"Weight (g)\")\n",
        "plt.ylabel(\"Average Tumor Volume (mm3)\")\n",
        "plt.plot(avg_cap_df[\"Weight (g)\"],reg_vals,\"r-\")\n",
        "plt.show()\n"
      ]
    },
    {
      "cell_type": "code",
      "execution_count": null,
      "metadata": {
        "id": "CRgxQlo_4lI4"
      },
      "outputs": [],
      "source": []
    }
  ],
  "metadata": {
    "anaconda-cloud": {},
    "colab": {
      "provenance": []
    },
    "kernelspec": {
      "display_name": "PythonData",
      "language": "python",
      "name": "python3"
    },
    "language_info": {
      "codemirror_mode": {
        "name": "ipython",
        "version": 3
      },
      "file_extension": ".py",
      "mimetype": "text/x-python",
      "name": "python",
      "nbconvert_exporter": "python",
      "pygments_lexer": "ipython3",
      "version": "3.10.14"
    }
  },
  "nbformat": 4,
  "nbformat_minor": 0
}
